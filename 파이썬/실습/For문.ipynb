{
 "cells": [
  {
   "cell_type": "markdown",
   "metadata": {},
   "source": [
    "1. x = [3, 6, 9, 20, -7, 5] 의 값의 모든 요소에 10을 곱하여 저장한 뒤 출력하세요."
   ]
  },
  {
   "cell_type": "code",
   "execution_count": 1,
   "metadata": {},
   "outputs": [
    {
     "name": "stdout",
     "output_type": "stream",
     "text": [
      "[30, 60, 90, 200, -70, 50]\n"
     ]
    }
   ],
   "source": [
    "x = [3, 6, 9, 20, -7, 5] \n",
    "new_x = []\n",
    "for i in x:\n",
    "    new_x.append(i*10)\n",
    "print(new_x)"
   ]
  },
  {
   "cell_type": "markdown",
   "metadata": {},
   "source": [
    "2. y = {\"math\":70, \"Science\":80, \"english\":20}의 값의 모든 요소에 10을 더하여 저장한 뒤 출력하세요."
   ]
  },
  {
   "cell_type": "code",
   "execution_count": 7,
   "metadata": {},
   "outputs": [
    {
     "name": "stdout",
     "output_type": "stream",
     "text": [
      "{'math': 80, 'Science': 90, 'english': 30}\n"
     ]
    }
   ],
   "source": [
    "y = {\"math\":70, \"Science\":80, \"english\":20}\n",
    "\n",
    "for i in y:\n",
    "    y[i] = y[i]+10\n",
    "print(y)"
   ]
  },
  {
   "cell_type": "markdown",
   "metadata": {},
   "source": [
    "3. 숫자를 입력받고 입력받은 정수의 구구단을 출력하세요."
   ]
  },
  {
   "cell_type": "code",
   "execution_count": 8,
   "metadata": {},
   "outputs": [
    {
     "name": "stdout",
     "output_type": "stream",
     "text": [
      "3 * 1 = 3\n",
      "3 * 2 = 6\n",
      "3 * 3 = 9\n",
      "3 * 4 = 12\n",
      "3 * 5 = 15\n",
      "3 * 6 = 18\n",
      "3 * 7 = 21\n",
      "3 * 8 = 24\n",
      "3 * 9 = 27\n"
     ]
    }
   ],
   "source": [
    "num = int(input(\"몇단을 출력하시겠습니까? \"))\n",
    "\n",
    "for i in range(1, 10) :\n",
    "    result = i * num \n",
    "    print(\"{} * {} = {}\".format(num, i, result))\n"
   ]
  },
  {
   "cell_type": "markdown",
   "metadata": {},
   "source": [
    "4. word = [\"school\", \"game\", \"piano\", \"Science\", \"hotel\", \"mountain\"] 중 글자수가 6글자 이상인 문자를 모아 새로운 리스트를 생성하세요."
   ]
  },
  {
   "cell_type": "code",
   "execution_count": 9,
   "metadata": {},
   "outputs": [
    {
     "name": "stdout",
     "output_type": "stream",
     "text": [
      "['school', 'Science', 'mountain']\n"
     ]
    }
   ],
   "source": [
    "word = [\"school\", \"game\", \"piano\", \"Science\", \"hotel\", \"mountain\"] \n",
    "\n",
    "new_list = []\n",
    "for i in word :\n",
    "    if 6 <= len(i) :\n",
    "        new_list.append(i)\n",
    "    else :\n",
    "        pass\n",
    "\n",
    "print(new_list)\n"
   ]
  },
  {
   "cell_type": "markdown",
   "metadata": {},
   "source": [
    "5. 구구단을 1단부터 9단까지 출력하세요."
   ]
  },
  {
   "cell_type": "code",
   "execution_count": 10,
   "metadata": {},
   "outputs": [
    {
     "name": "stdout",
     "output_type": "stream",
     "text": [
      "1*1=1\n",
      "1*2=2\n",
      "1*3=3\n",
      "1*4=4\n",
      "1*5=5\n",
      "1*6=6\n",
      "1*7=7\n",
      "1*8=8\n",
      "1*9=9\n",
      "2*1=2\n",
      "2*2=4\n",
      "2*3=6\n",
      "2*4=8\n",
      "2*5=10\n",
      "2*6=12\n",
      "2*7=14\n",
      "2*8=16\n",
      "2*9=18\n",
      "3*1=3\n",
      "3*2=6\n",
      "3*3=9\n",
      "3*4=12\n",
      "3*5=15\n",
      "3*6=18\n",
      "3*7=21\n",
      "3*8=24\n",
      "3*9=27\n",
      "4*1=4\n",
      "4*2=8\n",
      "4*3=12\n",
      "4*4=16\n",
      "4*5=20\n",
      "4*6=24\n",
      "4*7=28\n",
      "4*8=32\n",
      "4*9=36\n",
      "5*1=5\n",
      "5*2=10\n",
      "5*3=15\n",
      "5*4=20\n",
      "5*5=25\n",
      "5*6=30\n",
      "5*7=35\n",
      "5*8=40\n",
      "5*9=45\n",
      "6*1=6\n",
      "6*2=12\n",
      "6*3=18\n",
      "6*4=24\n",
      "6*5=30\n",
      "6*6=36\n",
      "6*7=42\n",
      "6*8=48\n",
      "6*9=54\n",
      "7*1=7\n",
      "7*2=14\n",
      "7*3=21\n",
      "7*4=28\n",
      "7*5=35\n",
      "7*6=42\n",
      "7*7=49\n",
      "7*8=56\n",
      "7*9=63\n",
      "8*1=8\n",
      "8*2=16\n",
      "8*3=24\n",
      "8*4=32\n",
      "8*5=40\n",
      "8*6=48\n",
      "8*7=56\n",
      "8*8=64\n",
      "8*9=72\n",
      "9*1=9\n",
      "9*2=18\n",
      "9*3=27\n",
      "9*4=36\n",
      "9*5=45\n",
      "9*6=54\n",
      "9*7=63\n",
      "9*8=72\n",
      "9*9=81\n"
     ]
    }
   ],
   "source": [
    "for i in range(1, 10):\n",
    "    for j in range(1, 10):\n",
    "        print(f\"{i}*{j}={i*j}\")"
   ]
  },
  {
   "cell_type": "markdown",
   "metadata": {},
   "source": [
    "6. [3, 6, 9, 20, -7, 5] 리스트를 sort와 같은 함수를 사용하지말고 for문을 활용하여 오름차순으로 정렬해주세요."
   ]
  },
  {
   "cell_type": "code",
   "execution_count": 25,
   "metadata": {},
   "outputs": [
    {
     "name": "stdout",
     "output_type": "stream",
     "text": [
      "[-7, 3, 5, 6, 9, 20]\n"
     ]
    }
   ],
   "source": [
    "# 선택 정렬\n",
    "\n",
    "origin_list = [3, 6, 9, 20, -7, 5]\n",
    "\n",
    "\n",
    "for i in range(len(origin_list)):\n",
    "    \n",
    "    min_index = i\n",
    "    for j in range(i+1, len(origin_list)):\n",
    "        if origin_list[j] < origin_list[min_index]:\n",
    "            min_index = j\n",
    "\n",
    "    origin_list[i], origin_list[min_index] = origin_list[min_index], origin_list[i]\n",
    "   \n",
    "print(origin_list)"
   ]
  },
  {
   "cell_type": "markdown",
   "metadata": {},
   "source": [
    "7. 1-100 까지 숫자중 3과 5의 공배수일경우 \"3과 5의 공배수\", \n",
    "나머지 숫자중 3의 배수일경우 \"3의배수\", 나머지 숫자중 5의 배수일경우 \"5의배수\"\n",
    "모두 해당되지 않을경우 그냥숫자를 출력하세요."
   ]
  }
 ],
 "metadata": {
  "kernelspec": {
   "display_name": "base",
   "language": "python",
   "name": "python3"
  },
  "language_info": {
   "codemirror_mode": {
    "name": "ipython",
    "version": 3
   },
   "file_extension": ".py",
   "mimetype": "text/x-python",
   "name": "python",
   "nbconvert_exporter": "python",
   "pygments_lexer": "ipython3",
   "version": "3.11.4"
  }
 },
 "nbformat": 4,
 "nbformat_minor": 2
}
