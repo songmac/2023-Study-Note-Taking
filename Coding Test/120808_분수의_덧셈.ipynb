{
 "cells": [
  {
   "cell_type": "markdown",
   "metadata": {},
   "source": [
    "#### 문제 설명\n",
    "첫 번째 분수의 분자와 분모를 뜻하는 numer1, denom1, 두 번째 분수의 분자와 분모를 뜻하는 numer2, denom2가 매개변수로 주어집니다. 두 분수를 더한 값을 기약 분수로 나타냈을 때 분자와 분모를 순서대로 담은 배열을 return 하도록 solution 함수를 완성해보세요.\n",
    "\n",
    "#### 제한사항\n",
    "0 <numer1, denom1, numer2, denom2 < 1,000"
   ]
  },
  {
   "cell_type": "code",
   "execution_count": 3,
   "metadata": {},
   "outputs": [
    {
     "name": "stdout",
     "output_type": "stream",
     "text": [
      "[5, 6]\n"
     ]
    }
   ],
   "source": [
    "# GPT 활용\n",
    "# 유클리드 알고리즘을 활용하여 두 정수의 최대공약수(Greatest Common Divisor, GCD)를 구함\n",
    "\n",
    "def gcd(a, b):\n",
    "    while b:\n",
    "        a, b = b, a % b\n",
    "    return a\n",
    "\n",
    "def solution(numer1, denom1, numer2, denom2):\n",
    "    # 분수를 더함\n",
    "    result_numer = numer1 * denom2 + numer2 * denom1\n",
    "    result_denom = denom1 * denom2\n",
    "    \n",
    "    # 결과를 기약 분수로 만듦\n",
    "    common_divisor = gcd(result_numer, result_denom) # 최대 공약수\n",
    "    result_numer //= common_divisor\n",
    "    result_denom //= common_divisor\n",
    "    \n",
    "    return [result_numer, result_denom]\n",
    "\n",
    "# 테스트\n",
    "numer1, denom1, numer2, denom2 = 1, 2, 1, 3\n",
    "print(solution(numer1, denom1, numer2, denom2))"
   ]
  },
  {
   "cell_type": "code",
   "execution_count": null,
   "metadata": {},
   "outputs": [],
   "source": [
    "# import math 에서 기능 제공\n",
    "import math\n",
    "\n",
    "def solution(numer1, denom1, numer2, denom2):\n",
    "    # 분수를 더함\n",
    "    result_numer = numer1 * denom2 + numer2 * denom1\n",
    "    result_denom = denom1 * denom2\n",
    "    \n",
    "    # 결과를 기약 분수로 만듦\n",
    "    gcd = math.gcd(result_numer, result_denom)\n",
    "    result_numer //= gcd\n",
    "    result_denom //= gcd\n",
    "    \n",
    "    return [result_numer, result_denom]"
   ]
  }
 ],
 "metadata": {
  "kernelspec": {
   "display_name": "Python 3 (ipykernel)",
   "language": "python",
   "name": "python3"
  },
  "language_info": {
   "codemirror_mode": {
    "name": "ipython",
    "version": 3
   },
   "file_extension": ".py",
   "mimetype": "text/x-python",
   "name": "python",
   "nbconvert_exporter": "python",
   "pygments_lexer": "ipython3",
   "version": "3.11.4"
  }
 },
 "nbformat": 4,
 "nbformat_minor": 2
}
