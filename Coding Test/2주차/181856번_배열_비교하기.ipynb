{
 "cells": [
  {
   "cell_type": "markdown",
   "metadata": {},
   "source": [
    "# 181856번. 배열 비교하기\n",
    "이 문제에서 두 정수 배열의 대소관계를 다음과 같이 정의합니다.\n",
    "\n",
    "두 배열의 길이가 다르다면, 배열의 길이가 긴 쪽이 더 큽니다.\n",
    "배열의 길이가 같다면 각 배열에 있는 모든 원소의 합을 비교하여 다르다면 더 큰 쪽이 크고, 같다면 같습니다.\n",
    "두 정수 배열 arr1과 arr2가 주어질 때, 위에서 정의한 배열의 대소관계에 대하여 arr2가 크다면 -1, arr1이 크다면 1, 두 배열이 같다면 0을 return 하는 solution 함수를 작성해 주세요.\n",
    "\n",
    "제한사항\n",
    "\n",
    "- 1 ≤ arr1의 길이 ≤ 100\n",
    "- 1 ≤ arr2의 길이 ≤ 100\n",
    "- 1 ≤ arr1의 원소 ≤ 100\n",
    "- 1 ≤ arr2의 원소 ≤ 100\n",
    "- 문제에서 정의한 배열의 대소관계가 일반적인 프로그래밍 언어에서 정의된 배열의 대소관계와 다를 수 있는 점에 유의해주세요."
   ]
  },
  {
   "cell_type": "code",
   "execution_count": null,
   "metadata": {},
   "outputs": [
    {
     "data": {
      "text/plain": [
       "-1"
      ]
     },
     "metadata": {},
     "output_type": "display_data"
    }
   ],
   "source": [
    "import random\n",
    "\n",
    "# 리스트나 문자열 등에서 임의의 항목 선택\n",
    "arr1 = [random.randint(1, 101)]\n",
    "arr2 = [random.randint(1, 101)]\n",
    "\n",
    "def solution(arr1, arr2) :\n",
    "  while (1 <= len(arr1) <= 100) and (1 <= len(arr2) <= 100) :\n",
    "    if len(arr1) == len(arr2) : # 배열의 길이가 같을 경우\n",
    "      sum_arr1 = sum(arr1)\n",
    "      sum_arr2 = sum(arr2)\n",
    "      if sum_arr1 > sum_arr2 :\n",
    "        return 1\n",
    "      elif sum_arr1 < sum_arr2 :\n",
    "        return -1\n",
    "      else :\n",
    "        return 0\n",
    "    elif len(arr1) > len(arr2) : # arr1 배열이 길이가 길 경우\n",
    "        return 1\n",
    "    elif len(arr1) < len(arr2) : # arr2 배열이 길이가 길 경우\n",
    "        return -1\n",
    "\n",
    "solution(arr1, arr2)\n"
   ]
  },
  {
   "cell_type": "code",
   "execution_count": null,
   "metadata": {},
   "outputs": [
    {
     "data": {
      "text/plain": [
       "1"
      ]
     },
     "metadata": {},
     "output_type": "display_data"
    }
   ],
   "source": [
    "def solution(arr1, arr2):\n",
    "    if len(arr1) < len(arr2) :\n",
    "        return -1\n",
    "    elif len (arr1) > len(arr2) :\n",
    "        return 1\n",
    "    elif sum(arr1) > sum(arr2):\n",
    "        return 1\n",
    "    elif sum(arr1) < sum(arr2):\n",
    "        return -1\n",
    "    else :\n",
    "        return 0"
   ]
  },
  {
   "cell_type": "code",
   "execution_count": null,
   "metadata": {},
   "outputs": [],
   "source": []
  }
 ],
 "metadata": {
  "language_info": {
   "name": "python"
  }
 },
 "nbformat": 4,
 "nbformat_minor": 2
}
