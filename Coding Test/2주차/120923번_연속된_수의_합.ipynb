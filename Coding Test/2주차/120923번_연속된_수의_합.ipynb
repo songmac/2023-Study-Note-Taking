{
 "cells": [
  {
   "cell_type": "markdown",
   "metadata": {},
   "source": [
    "# 120923번. 연속된 수의 합\n",
    "연속된 세 개의 정수를 더해 12가 되는 경우는 3, 4, 5입니다. 두 정수 num과 total이 주어집니다. 연속된 수 num개를 더한 값이 total이 될 때, 정수 배열을 오름차순으로 담아 return하도록 solution함수를 완성해보세요. (solving)\n",
    "\n",
    "제한사항\n",
    "- 1 ≤ num ≤ 100\n",
    "- 0 ≤ total ≤ 1000\n",
    "- num개의 연속된 수를 더하여 total이 될 수 없는 테스트 케이스는 없습니다."
   ]
  },
  {
   "cell_type": "code",
   "execution_count": null,
   "metadata": {},
   "outputs": [
    {
     "name": "stdout",
     "output_type": "stream",
     "text": [
      "[3, 4, 5]\n",
      "[-1, 0, 1, 2, 3]\n",
      "[2, 3, 4, 5]\n",
      "[1, 2, 3, 4, 5]\n"
     ]
    }
   ],
   "source": [
    "def solution(num, total):\n",
    "    # total을 num으로 나눈 몫을 중심으로 한 범위로 설정\n",
    "    start = total // num - num // 2\n",
    "    end = total // num + num // 2 + 1\n",
    "\n",
    "    for i in range(start, end):\n",
    "        # 현재의 i를 시작으로 num개의 연속된 수를 더함\n",
    "        answer = [i + j for j in range(num)]\n",
    "\n",
    "        # 연속된 수의 합이 total과 같으면 결과를 반환\n",
    "        if sum(answer) == total:\n",
    "            return answer\n",
    "\n",
    "# 테스트\n",
    "print(solution(3, 12))\n",
    "print(solution(5, 5))\n",
    "print(solution(4, 14))\n",
    "print(solution(5, 15))"
   ]
  }
 ],
 "metadata": {
  "language_info": {
   "name": "python"
  }
 },
 "nbformat": 4,
 "nbformat_minor": 2
}
