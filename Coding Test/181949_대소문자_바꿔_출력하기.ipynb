{
 "cells": [
  {
   "cell_type": "markdown",
   "metadata": {},
   "source": [
    "# 181949번. 대소문자 바꿔 출력하기\n",
    " 영어 알파벳으로 이루어진 문자열 str이 주어집니다. 각 알파벳을 대문자는 소문자로 소문자는 대문자로 변환해서 출력하는 코드를 작성해 보세요. (solved)\n",
    "\n",
    "제한사항\n",
    "\n",
    "1 ≤ str의 길이 ≤ 20\n",
    "str은 알파벳으로 이루어진 문자열입니다.\"\"\"\n",
    "\n",
    "\n",
    "\"\"\"예시 : aBcDeFg\"\"\""
   ]
  },
  {
   "cell_type": "code",
   "execution_count": null,
   "metadata": {
    "vscode": {
     "languageId": "plaintext"
    }
   },
   "outputs": [],
   "source": [
    "str = list(input())\n",
    "num = len(str)\n",
    "# print(num)\n",
    "\n",
    "if 1 < num <= 20 :\n",
    "  for i in range (num) :\n",
    "   if str[i].isupper():\n",
    "      str[i] = str[i].lower()\n",
    "      print(str[i], end='')\n",
    "   elif str[i].islower() :\n",
    "      str[i] = str[i].upper()\n",
    "      print(str[i], end='')\n",
    "else:\n",
    "  print ()"
   ]
  }
 ],
 "metadata": {
  "language_info": {
   "name": "python"
  }
 },
 "nbformat": 4,
 "nbformat_minor": 2
}
