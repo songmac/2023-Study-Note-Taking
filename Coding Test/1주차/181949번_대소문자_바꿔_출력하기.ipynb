# 문자열.upper() – 해당 문자열을 대문자로 변환
# 문자열.lower() – 해당 문자열을 소문자로 변환
# 문자열.isupper() – 해당 문자열이 대문자인지 판단(Boolean)
# 문자열.islower() – 해당 문자열이 소문자인지 판단(Boolean)

"""예시 : aBcDeFg"""

str = list(input())
num = len(str)
# print(num)

if 1 < num <= 20 :
  for i in range (num) :
   if str[i].isupper():
      str[i] = str[i].lower()
      print(str[i], end='')
   elif str[i].islower() :
      str[i] = str[i].upper()
      print(str[i], end='')
else:
  print ()