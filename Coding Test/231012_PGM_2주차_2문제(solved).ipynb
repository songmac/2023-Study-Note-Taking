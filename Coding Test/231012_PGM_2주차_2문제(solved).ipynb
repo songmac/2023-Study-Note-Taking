{
  "nbformat": 4,
  "nbformat_minor": 0,
  "metadata": {
    "colab": {
      "provenance": []
    },
    "kernelspec": {
      "name": "python3",
      "display_name": "Python 3"
    },
    "language_info": {
      "name": "python"
    }
  },
  "cells": [
    {
      "cell_type": "markdown",
      "source": [
        "181949번. 영어 알파벳으로 이루어진 문자열 str이 주어집니다. 각 알파벳을 대문자는 소문자로 소문자는 대문자로 변환해서 출력하는 코드를 작성해 보세요. (solved)\n",
        "\n",
        "제한사항\n",
        "\n",
        "1 ≤ str의 길이 ≤ 20\n",
        "str은 알파벳으로 이루어진 문자열입니다."
      ],
      "metadata": {
        "id": "lZzOG_ns6yV-"
      }
    },
    {
      "cell_type": "code",
      "source": [
        "# 문자열.upper() – 해당 문자열을 대문자로 변환\n",
        "# 문자열.lower() – 해당 문자열을 소문자로 변환\n",
        "# 문자열.isupper() – 해당 문자열이 대문자인지 판단(Boolean)\n",
        "# 문자열.islower() – 해당 문자열이 소문자인지 판단(Boolean)\n",
        "\n",
        "\"\"\"예시 : aBcDeFg\"\"\"\n",
        "\n",
        "str = list(input())\n",
        "num = len(str)\n",
        "# print(num)\n",
        "\n",
        "if 1 < num <= 20 :\n",
        "  for i in range (num) :\n",
        "   if str[i].isupper():\n",
        "      str[i] = str[i].lower()\n",
        "      print(str[i], end='')\n",
        "   elif str[i].islower() :\n",
        "      str[i] = str[i].upper()\n",
        "      print(str[i], end='')\n",
        "else:\n",
        "  print ()"
      ],
      "metadata": {
        "colab": {
          "base_uri": "https://localhost:8080/"
        },
        "id": "cuqhAeDi690s",
        "outputId": "0cddc8db-1c5d-442b-837c-e5f9e22131e2"
      },
      "execution_count": null,
      "outputs": [
        {
          "output_type": "stream",
          "name": "stdout",
          "text": [
            "aBcDeFg\n",
            "AbCdEfG"
          ]
        }
      ]
    },
    {
      "cell_type": "code",
      "source": [
        "# 다른 사람들의 풀이\n",
        "\n",
        "print(input().swapcase())"
      ],
      "metadata": {
        "id": "zJVbecPc7BcY",
        "colab": {
          "base_uri": "https://localhost:8080/"
        },
        "outputId": "40806dfe-4896-4b20-ccad-6df939d79d22"
      },
      "execution_count": null,
      "outputs": [
        {
          "output_type": "stream",
          "name": "stdout",
          "text": [
            "aBcDeFg\n",
            "AbCdEfG\n"
          ]
        }
      ]
    },
    {
      "cell_type": "markdown",
      "source": [
        "120807번. 정수 num1과 num2가 매개변수로 주어집니다. 두 수가 같으면 1 다르면 -1을 retrun하도록 solution 함수를 완성해주세요. (solved)\n",
        "\n",
        "제한사항\n",
        "\n",
        "0 ≤ num1 ≤ 10,000\n",
        "\n",
        "0 ≤ num2 ≤ 10,000\n"
      ],
      "metadata": {
        "id": "xGLWV0icJ3zN"
      }
    },
    {
      "cell_type": "code",
      "source": [
        "# 나의 풀이\n",
        "\n",
        "import random\n",
        "\n",
        "num1 = random.randint(0, 10001)\n",
        "num2 = random.randint(0, 10001)\n",
        "\n",
        "def solution (num1, num2):\n",
        "\n",
        "        answer = 0\n",
        "        if num1 == num2 :\n",
        "          answer = 1\n",
        "          return answer\n",
        "\n",
        "        elif num1 != num2 :\n",
        "          answer = -1\n",
        "          return answer\n",
        "\n",
        "print(num1, num2)\n",
        "solution (num1, num2)\n"
      ],
      "metadata": {
        "colab": {
          "base_uri": "https://localhost:8080/"
        },
        "id": "rOQuObea2igI",
        "outputId": "9f31741d-0586-4068-a84e-557a5f4134d6"
      },
      "execution_count": null,
      "outputs": [
        {
          "output_type": "stream",
          "name": "stdout",
          "text": [
            "6269 6064\n"
          ]
        },
        {
          "output_type": "execute_result",
          "data": {
            "text/plain": [
              "-1"
            ]
          },
          "metadata": {},
          "execution_count": 27
        }
      ]
    },
    {
      "cell_type": "code",
      "source": [
        "# 다른 사람들의 풀이(1)\n",
        "\n",
        "def solution(num1, num2):\n",
        "    return 1 if num1==num2 else -1\n",
        "\n",
        "# print(num1, num2)\n",
        "# solution(num1, num2)\n"
      ],
      "metadata": {
        "id": "3qpqZ76NLfjI"
      },
      "execution_count": null,
      "outputs": []
    },
    {
      "cell_type": "code",
      "source": [
        "# 다른 사람들의 풀이(2)\n",
        "\n",
        "def solution(num1, num2):\n",
        "    answer = -1\n",
        "    if num1 == num2 :\n",
        "        answer = 1\n",
        "    return answer\n",
        "\n",
        "# print(num1, num2)\n",
        "# solution(num1, num2)"
      ],
      "metadata": {
        "id": "_FkzcO3BQgYm"
      },
      "execution_count": null,
      "outputs": []
    }
  ]
}